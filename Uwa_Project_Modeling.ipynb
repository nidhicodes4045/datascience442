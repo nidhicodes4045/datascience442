{
  "nbformat": 4,
  "nbformat_minor": 0,
  "metadata": {
    "colab": {
      "provenance": []
    },
    "kernelspec": {
      "name": "python3",
      "display_name": "Python 3"
    },
    "language_info": {
      "name": "python"
    }
  },
  "cells": [
    {
      "cell_type": "markdown",
      "source": [
        "#Modeling Section"
      ],
      "metadata": {
        "id": "a5mw5_VtWeDY"
      }
    },
    {
      "cell_type": "markdown",
      "source": [
        "## Imports, Settings and reading dataset"
      ],
      "metadata": {
        "id": "oUppsvgWf_gm"
      }
    },
    {
      "cell_type": "code",
      "execution_count": null,
      "metadata": {
        "id": "cbOE8DsSWc6U"
      },
      "outputs": [],
      "source": [
        "import pandas as pd\n",
        "import numpy as np\n",
        "import matplotlib.pyplot as plt\n",
        "import seaborn as sns\n",
        "import os\n",
        "\n",
        "pd.set_option('display.max_columns', None)\n",
        "pd.set_option('display.precision', 4)\n",
        "pd.set_option('display.float_format', '{:.4f}'.format)"
      ]
    },
    {
      "cell_type": "code",
      "source": [
        "print(os.getcwd())"
      ],
      "metadata": {
        "id": "0GseuTShgYm9"
      },
      "execution_count": null,
      "outputs": []
    },
    {
      "cell_type": "code",
      "source": [
        "df = pd.read_csv(\"https://raw.githubusercontent.com/nidhicodes4045/datascience442/a5b906a9d039c38302197bdfb6f72d8581de15a2/Uwa_subset.csv\")"
      ],
      "metadata": {
        "id": "5GCQc3sdjRUg"
      },
      "execution_count": null,
      "outputs": []
    },
    {
      "cell_type": "code",
      "source": [
        "df.head()"
      ],
      "metadata": {
        "colab": {
          "base_uri": "https://localhost:8080/",
          "height": 206
        },
        "id": "fQjiqlnCj7Ai",
        "outputId": "04a0757f-1d2f-4e27-dccf-895849e1f3ac"
      },
      "execution_count": null,
      "outputs": [
        {
          "output_type": "execute_result",
          "data": {
            "text/plain": [
              "  State  Low Access Numbers.People.10 Miles  Vehicle Access.10 Miles  \\\n",
              "0    al                                5119                 222.0000   \n",
              "1    al                                2308                  32.0000   \n",
              "2    al                                4643                 201.0000   \n",
              "3    al                                 365                   0.0000   \n",
              "4    al                                   0                   0.0000   \n",
              "\n",
              "   Sales.Retail Sales  Income.Median Houseold Income Region  \n",
              "0         607854.0000                          58731  South  \n",
              "1        3145789.0000                          58320  South  \n",
              "2         206477.0000                          32525  South  \n",
              "3         118871.0000                          47542  South  \n",
              "4         298745.0000                          49358  South  "
            ],
            "text/html": [
              "\n",
              "  <div id=\"df-7e60a8b8-321b-4ad1-9943-28556d22026f\" class=\"colab-df-container\">\n",
              "    <div>\n",
              "<style scoped>\n",
              "    .dataframe tbody tr th:only-of-type {\n",
              "        vertical-align: middle;\n",
              "    }\n",
              "\n",
              "    .dataframe tbody tr th {\n",
              "        vertical-align: top;\n",
              "    }\n",
              "\n",
              "    .dataframe thead th {\n",
              "        text-align: right;\n",
              "    }\n",
              "</style>\n",
              "<table border=\"1\" class=\"dataframe\">\n",
              "  <thead>\n",
              "    <tr style=\"text-align: right;\">\n",
              "      <th></th>\n",
              "      <th>State</th>\n",
              "      <th>Low Access Numbers.People.10 Miles</th>\n",
              "      <th>Vehicle Access.10 Miles</th>\n",
              "      <th>Sales.Retail Sales</th>\n",
              "      <th>Income.Median Houseold Income</th>\n",
              "      <th>Region</th>\n",
              "    </tr>\n",
              "  </thead>\n",
              "  <tbody>\n",
              "    <tr>\n",
              "      <th>0</th>\n",
              "      <td>al</td>\n",
              "      <td>5119</td>\n",
              "      <td>222.0000</td>\n",
              "      <td>607854.0000</td>\n",
              "      <td>58731</td>\n",
              "      <td>South</td>\n",
              "    </tr>\n",
              "    <tr>\n",
              "      <th>1</th>\n",
              "      <td>al</td>\n",
              "      <td>2308</td>\n",
              "      <td>32.0000</td>\n",
              "      <td>3145789.0000</td>\n",
              "      <td>58320</td>\n",
              "      <td>South</td>\n",
              "    </tr>\n",
              "    <tr>\n",
              "      <th>2</th>\n",
              "      <td>al</td>\n",
              "      <td>4643</td>\n",
              "      <td>201.0000</td>\n",
              "      <td>206477.0000</td>\n",
              "      <td>32525</td>\n",
              "      <td>South</td>\n",
              "    </tr>\n",
              "    <tr>\n",
              "      <th>3</th>\n",
              "      <td>al</td>\n",
              "      <td>365</td>\n",
              "      <td>0.0000</td>\n",
              "      <td>118871.0000</td>\n",
              "      <td>47542</td>\n",
              "      <td>South</td>\n",
              "    </tr>\n",
              "    <tr>\n",
              "      <th>4</th>\n",
              "      <td>al</td>\n",
              "      <td>0</td>\n",
              "      <td>0.0000</td>\n",
              "      <td>298745.0000</td>\n",
              "      <td>49358</td>\n",
              "      <td>South</td>\n",
              "    </tr>\n",
              "  </tbody>\n",
              "</table>\n",
              "</div>\n",
              "    <div class=\"colab-df-buttons\">\n",
              "\n",
              "  <div class=\"colab-df-container\">\n",
              "    <button class=\"colab-df-convert\" onclick=\"convertToInteractive('df-7e60a8b8-321b-4ad1-9943-28556d22026f')\"\n",
              "            title=\"Convert this dataframe to an interactive table.\"\n",
              "            style=\"display:none;\">\n",
              "\n",
              "  <svg xmlns=\"http://www.w3.org/2000/svg\" height=\"24px\" viewBox=\"0 -960 960 960\">\n",
              "    <path d=\"M120-120v-720h720v720H120Zm60-500h600v-160H180v160Zm220 220h160v-160H400v160Zm0 220h160v-160H400v160ZM180-400h160v-160H180v160Zm440 0h160v-160H620v160ZM180-180h160v-160H180v160Zm440 0h160v-160H620v160Z\"/>\n",
              "  </svg>\n",
              "    </button>\n",
              "\n",
              "  <style>\n",
              "    .colab-df-container {\n",
              "      display:flex;\n",
              "      gap: 12px;\n",
              "    }\n",
              "\n",
              "    .colab-df-convert {\n",
              "      background-color: #E8F0FE;\n",
              "      border: none;\n",
              "      border-radius: 50%;\n",
              "      cursor: pointer;\n",
              "      display: none;\n",
              "      fill: #1967D2;\n",
              "      height: 32px;\n",
              "      padding: 0 0 0 0;\n",
              "      width: 32px;\n",
              "    }\n",
              "\n",
              "    .colab-df-convert:hover {\n",
              "      background-color: #E2EBFA;\n",
              "      box-shadow: 0px 1px 2px rgba(60, 64, 67, 0.3), 0px 1px 3px 1px rgba(60, 64, 67, 0.15);\n",
              "      fill: #174EA6;\n",
              "    }\n",
              "\n",
              "    .colab-df-buttons div {\n",
              "      margin-bottom: 4px;\n",
              "    }\n",
              "\n",
              "    [theme=dark] .colab-df-convert {\n",
              "      background-color: #3B4455;\n",
              "      fill: #D2E3FC;\n",
              "    }\n",
              "\n",
              "    [theme=dark] .colab-df-convert:hover {\n",
              "      background-color: #434B5C;\n",
              "      box-shadow: 0px 1px 3px 1px rgba(0, 0, 0, 0.15);\n",
              "      filter: drop-shadow(0px 1px 2px rgba(0, 0, 0, 0.3));\n",
              "      fill: #FFFFFF;\n",
              "    }\n",
              "  </style>\n",
              "\n",
              "    <script>\n",
              "      const buttonEl =\n",
              "        document.querySelector('#df-7e60a8b8-321b-4ad1-9943-28556d22026f button.colab-df-convert');\n",
              "      buttonEl.style.display =\n",
              "        google.colab.kernel.accessAllowed ? 'block' : 'none';\n",
              "\n",
              "      async function convertToInteractive(key) {\n",
              "        const element = document.querySelector('#df-7e60a8b8-321b-4ad1-9943-28556d22026f');\n",
              "        const dataTable =\n",
              "          await google.colab.kernel.invokeFunction('convertToInteractive',\n",
              "                                                    [key], {});\n",
              "        if (!dataTable) return;\n",
              "\n",
              "        const docLinkHtml = 'Like what you see? Visit the ' +\n",
              "          '<a target=\"_blank\" href=https://colab.research.google.com/notebooks/data_table.ipynb>data table notebook</a>'\n",
              "          + ' to learn more about interactive tables.';\n",
              "        element.innerHTML = '';\n",
              "        dataTable['output_type'] = 'display_data';\n",
              "        await google.colab.output.renderOutput(dataTable, element);\n",
              "        const docLink = document.createElement('div');\n",
              "        docLink.innerHTML = docLinkHtml;\n",
              "        element.appendChild(docLink);\n",
              "      }\n",
              "    </script>\n",
              "  </div>\n",
              "\n",
              "\n",
              "<div id=\"df-0ce973e2-ca6e-4037-96cd-538861dea2aa\">\n",
              "  <button class=\"colab-df-quickchart\" onclick=\"quickchart('df-0ce973e2-ca6e-4037-96cd-538861dea2aa')\"\n",
              "            title=\"Suggest charts\"\n",
              "            style=\"display:none;\">\n",
              "\n",
              "<svg xmlns=\"http://www.w3.org/2000/svg\" height=\"24px\"viewBox=\"0 0 24 24\"\n",
              "     width=\"24px\">\n",
              "    <g>\n",
              "        <path d=\"M19 3H5c-1.1 0-2 .9-2 2v14c0 1.1.9 2 2 2h14c1.1 0 2-.9 2-2V5c0-1.1-.9-2-2-2zM9 17H7v-7h2v7zm4 0h-2V7h2v10zm4 0h-2v-4h2v4z\"/>\n",
              "    </g>\n",
              "</svg>\n",
              "  </button>\n",
              "\n",
              "<style>\n",
              "  .colab-df-quickchart {\n",
              "      --bg-color: #E8F0FE;\n",
              "      --fill-color: #1967D2;\n",
              "      --hover-bg-color: #E2EBFA;\n",
              "      --hover-fill-color: #174EA6;\n",
              "      --disabled-fill-color: #AAA;\n",
              "      --disabled-bg-color: #DDD;\n",
              "  }\n",
              "\n",
              "  [theme=dark] .colab-df-quickchart {\n",
              "      --bg-color: #3B4455;\n",
              "      --fill-color: #D2E3FC;\n",
              "      --hover-bg-color: #434B5C;\n",
              "      --hover-fill-color: #FFFFFF;\n",
              "      --disabled-bg-color: #3B4455;\n",
              "      --disabled-fill-color: #666;\n",
              "  }\n",
              "\n",
              "  .colab-df-quickchart {\n",
              "    background-color: var(--bg-color);\n",
              "    border: none;\n",
              "    border-radius: 50%;\n",
              "    cursor: pointer;\n",
              "    display: none;\n",
              "    fill: var(--fill-color);\n",
              "    height: 32px;\n",
              "    padding: 0;\n",
              "    width: 32px;\n",
              "  }\n",
              "\n",
              "  .colab-df-quickchart:hover {\n",
              "    background-color: var(--hover-bg-color);\n",
              "    box-shadow: 0 1px 2px rgba(60, 64, 67, 0.3), 0 1px 3px 1px rgba(60, 64, 67, 0.15);\n",
              "    fill: var(--button-hover-fill-color);\n",
              "  }\n",
              "\n",
              "  .colab-df-quickchart-complete:disabled,\n",
              "  .colab-df-quickchart-complete:disabled:hover {\n",
              "    background-color: var(--disabled-bg-color);\n",
              "    fill: var(--disabled-fill-color);\n",
              "    box-shadow: none;\n",
              "  }\n",
              "\n",
              "  .colab-df-spinner {\n",
              "    border: 2px solid var(--fill-color);\n",
              "    border-color: transparent;\n",
              "    border-bottom-color: var(--fill-color);\n",
              "    animation:\n",
              "      spin 1s steps(1) infinite;\n",
              "  }\n",
              "\n",
              "  @keyframes spin {\n",
              "    0% {\n",
              "      border-color: transparent;\n",
              "      border-bottom-color: var(--fill-color);\n",
              "      border-left-color: var(--fill-color);\n",
              "    }\n",
              "    20% {\n",
              "      border-color: transparent;\n",
              "      border-left-color: var(--fill-color);\n",
              "      border-top-color: var(--fill-color);\n",
              "    }\n",
              "    30% {\n",
              "      border-color: transparent;\n",
              "      border-left-color: var(--fill-color);\n",
              "      border-top-color: var(--fill-color);\n",
              "      border-right-color: var(--fill-color);\n",
              "    }\n",
              "    40% {\n",
              "      border-color: transparent;\n",
              "      border-right-color: var(--fill-color);\n",
              "      border-top-color: var(--fill-color);\n",
              "    }\n",
              "    60% {\n",
              "      border-color: transparent;\n",
              "      border-right-color: var(--fill-color);\n",
              "    }\n",
              "    80% {\n",
              "      border-color: transparent;\n",
              "      border-right-color: var(--fill-color);\n",
              "      border-bottom-color: var(--fill-color);\n",
              "    }\n",
              "    90% {\n",
              "      border-color: transparent;\n",
              "      border-bottom-color: var(--fill-color);\n",
              "    }\n",
              "  }\n",
              "</style>\n",
              "\n",
              "  <script>\n",
              "    async function quickchart(key) {\n",
              "      const quickchartButtonEl =\n",
              "        document.querySelector('#' + key + ' button');\n",
              "      quickchartButtonEl.disabled = true;  // To prevent multiple clicks.\n",
              "      quickchartButtonEl.classList.add('colab-df-spinner');\n",
              "      try {\n",
              "        const charts = await google.colab.kernel.invokeFunction(\n",
              "            'suggestCharts', [key], {});\n",
              "      } catch (error) {\n",
              "        console.error('Error during call to suggestCharts:', error);\n",
              "      }\n",
              "      quickchartButtonEl.classList.remove('colab-df-spinner');\n",
              "      quickchartButtonEl.classList.add('colab-df-quickchart-complete');\n",
              "    }\n",
              "    (() => {\n",
              "      let quickchartButtonEl =\n",
              "        document.querySelector('#df-0ce973e2-ca6e-4037-96cd-538861dea2aa button');\n",
              "      quickchartButtonEl.style.display =\n",
              "        google.colab.kernel.accessAllowed ? 'block' : 'none';\n",
              "    })();\n",
              "  </script>\n",
              "</div>\n",
              "\n",
              "    </div>\n",
              "  </div>\n"
            ],
            "application/vnd.google.colaboratory.intrinsic+json": {
              "type": "dataframe",
              "variable_name": "df",
              "summary": "{\n  \"name\": \"df\",\n  \"rows\": 3138,\n  \"fields\": [\n    {\n      \"column\": \"State\",\n      \"properties\": {\n        \"dtype\": \"category\",\n        \"num_unique_values\": 51,\n        \"samples\": [\n          \"tx\",\n          \"sc\",\n          \"va\"\n        ],\n        \"semantic_type\": \"\",\n        \"description\": \"\"\n      }\n    },\n    {\n      \"column\": \"Low Access Numbers.People.10 Miles\",\n      \"properties\": {\n        \"dtype\": \"number\",\n        \"std\": 2385,\n        \"min\": 0,\n        \"max\": 37500,\n        \"num_unique_values\": 1941,\n        \"samples\": [\n          143,\n          9122,\n          2137\n        ],\n        \"semantic_type\": \"\",\n        \"description\": \"\"\n      }\n    },\n    {\n      \"column\": \"Vehicle Access.10 Miles\",\n      \"properties\": {\n        \"dtype\": \"number\",\n        \"std\": 78.12376898299611,\n        \"min\": 0.0,\n        \"max\": 1826.0,\n        \"num_unique_values\": 208,\n        \"samples\": [\n          87.0,\n          7.0,\n          113.0\n        ],\n        \"semantic_type\": \"\",\n        \"description\": \"\"\n      }\n    },\n    {\n      \"column\": \"Sales.Retail Sales\",\n      \"properties\": {\n        \"dtype\": \"number\",\n        \"std\": 4472255.3870382635,\n        \"min\": 576.0,\n        \"max\": 121389378.0,\n        \"num_unique_values\": 3067,\n        \"samples\": [\n          1767778.0,\n          102452.0,\n          2410171.0\n        ],\n        \"semantic_type\": \"\",\n        \"description\": \"\"\n      }\n    },\n    {\n      \"column\": \"Income.Median Houseold Income\",\n      \"properties\": {\n        \"dtype\": \"number\",\n        \"std\": 14183,\n        \"min\": 21504,\n        \"max\": 142299,\n        \"num_unique_values\": 3014,\n        \"samples\": [\n          78935,\n          52664,\n          43896\n        ],\n        \"semantic_type\": \"\",\n        \"description\": \"\"\n      }\n    },\n    {\n      \"column\": \"Region\",\n      \"properties\": {\n        \"dtype\": \"category\",\n        \"num_unique_values\": 4,\n        \"samples\": [\n          \"West\",\n          \"Midwest\",\n          \"South\"\n        ],\n        \"semantic_type\": \"\",\n        \"description\": \"\"\n      }\n    }\n  ]\n}"
            }
          },
          "metadata": {},
          "execution_count": 91
        }
      ]
    },
    {
      "cell_type": "markdown",
      "source": [
        "## Analysis and Prediction"
      ],
      "metadata": {
        "id": "NyuCohLchmnX"
      }
    },
    {
      "cell_type": "code",
      "source": [
        "# Produces dummy variables for Region\n",
        "df_dummy = pd.get_dummies(df, columns=['Region'], drop_first=True)\n",
        "\n",
        "df_dummy.rename(columns={\n",
        "    'Low Access Numbers.People.10 Miles': 'Low_Access_Numbers_10_Miles',\n",
        "    'Vehicle Access.10 Miles': 'Vehicle_Access_10_Miles',\n",
        "    'Sales.Retail Sales': 'Retail_Sales',\n",
        "    'Income.Median Houseold Income': 'Median_Household_Income'\n",
        "}, inplace=True)\n",
        "df_dummy.head()\n",
        "\n",
        "# Standardizes and applies a log tranformation for Low_Access_Numbers_10_Miles and Vehicle_Access_10_Miles\n",
        "df_dummy[\"Low_Access_Numbers_10_Miles\"] = (df_dummy[\"Low_Access_Numbers_10_Miles\"] - df_dummy[\"Low_Access_Numbers_10_Miles\"].mean()) / df_dummy[\"Low_Access_Numbers_10_Miles\"].std()\n",
        "df_dummy[\"Log_Low_Access_Numbers_10_Miles\"] = np.log1p(df_dummy[\"Low_Access_Numbers_10_Miles\"])\n",
        "df_dummy[\"Vehicle_Access_10_Miles\"] = (df_dummy[\"Vehicle_Access_10_Miles\"] - df_dummy[\"Vehicle_Access_10_Miles\"].mean()) / df_dummy[\"Vehicle_Access_10_Miles\"].std()\n",
        "df_dummy[\"Log_Vehicle_Access_10_Miles\"] = np.log1p(df_dummy[\"Vehicle_Access_10_Miles\"])\n",
        "df_dummy.head()"
      ],
      "metadata": {
        "id": "B3kbRYYVs0UX",
        "colab": {
          "base_uri": "https://localhost:8080/",
          "height": 226
        },
        "outputId": "bde1a67f-ff42-499a-e9ca-09fc599dd8e3"
      },
      "execution_count": 182,
      "outputs": [
        {
          "output_type": "execute_result",
          "data": {
            "text/plain": [
              "  State  Low_Access_Numbers_10_Miles  Vehicle_Access_10_Miles  Retail_Sales  \\\n",
              "0    al                       1.4605                   2.4798   607854.0000   \n",
              "1    al                       0.2823                   0.0477  3145789.0000   \n",
              "2    al                       1.2610                   2.2110   206477.0000   \n",
              "3    al                      -0.5321                  -0.3619   118871.0000   \n",
              "4    al                      -0.6851                  -0.3619   298745.0000   \n",
              "\n",
              "   Median_Household_Income  Region_Northeast  Region_South  Region_West  \\\n",
              "0                    58731             False          True        False   \n",
              "1                    58320             False          True        False   \n",
              "2                    32525             False          True        False   \n",
              "3                    47542             False          True        False   \n",
              "4                    49358             False          True        False   \n",
              "\n",
              "   Log_Low_Access_Numbers_10_Miles  Log_Vehicle_Access_10_Miles  \n",
              "0                           0.9004                       1.2470  \n",
              "1                           0.2486                       0.0466  \n",
              "2                           0.8158                       1.1666  \n",
              "3                          -0.7595                      -0.4492  \n",
              "4                          -1.1555                      -0.4492  "
            ],
            "text/html": [
              "\n",
              "  <div id=\"df-17858ab6-4cb1-4b10-b8a3-6e7a90abb36f\" class=\"colab-df-container\">\n",
              "    <div>\n",
              "<style scoped>\n",
              "    .dataframe tbody tr th:only-of-type {\n",
              "        vertical-align: middle;\n",
              "    }\n",
              "\n",
              "    .dataframe tbody tr th {\n",
              "        vertical-align: top;\n",
              "    }\n",
              "\n",
              "    .dataframe thead th {\n",
              "        text-align: right;\n",
              "    }\n",
              "</style>\n",
              "<table border=\"1\" class=\"dataframe\">\n",
              "  <thead>\n",
              "    <tr style=\"text-align: right;\">\n",
              "      <th></th>\n",
              "      <th>State</th>\n",
              "      <th>Low_Access_Numbers_10_Miles</th>\n",
              "      <th>Vehicle_Access_10_Miles</th>\n",
              "      <th>Retail_Sales</th>\n",
              "      <th>Median_Household_Income</th>\n",
              "      <th>Region_Northeast</th>\n",
              "      <th>Region_South</th>\n",
              "      <th>Region_West</th>\n",
              "      <th>Log_Low_Access_Numbers_10_Miles</th>\n",
              "      <th>Log_Vehicle_Access_10_Miles</th>\n",
              "    </tr>\n",
              "  </thead>\n",
              "  <tbody>\n",
              "    <tr>\n",
              "      <th>0</th>\n",
              "      <td>al</td>\n",
              "      <td>1.4605</td>\n",
              "      <td>2.4798</td>\n",
              "      <td>607854.0000</td>\n",
              "      <td>58731</td>\n",
              "      <td>False</td>\n",
              "      <td>True</td>\n",
              "      <td>False</td>\n",
              "      <td>0.9004</td>\n",
              "      <td>1.2470</td>\n",
              "    </tr>\n",
              "    <tr>\n",
              "      <th>1</th>\n",
              "      <td>al</td>\n",
              "      <td>0.2823</td>\n",
              "      <td>0.0477</td>\n",
              "      <td>3145789.0000</td>\n",
              "      <td>58320</td>\n",
              "      <td>False</td>\n",
              "      <td>True</td>\n",
              "      <td>False</td>\n",
              "      <td>0.2486</td>\n",
              "      <td>0.0466</td>\n",
              "    </tr>\n",
              "    <tr>\n",
              "      <th>2</th>\n",
              "      <td>al</td>\n",
              "      <td>1.2610</td>\n",
              "      <td>2.2110</td>\n",
              "      <td>206477.0000</td>\n",
              "      <td>32525</td>\n",
              "      <td>False</td>\n",
              "      <td>True</td>\n",
              "      <td>False</td>\n",
              "      <td>0.8158</td>\n",
              "      <td>1.1666</td>\n",
              "    </tr>\n",
              "    <tr>\n",
              "      <th>3</th>\n",
              "      <td>al</td>\n",
              "      <td>-0.5321</td>\n",
              "      <td>-0.3619</td>\n",
              "      <td>118871.0000</td>\n",
              "      <td>47542</td>\n",
              "      <td>False</td>\n",
              "      <td>True</td>\n",
              "      <td>False</td>\n",
              "      <td>-0.7595</td>\n",
              "      <td>-0.4492</td>\n",
              "    </tr>\n",
              "    <tr>\n",
              "      <th>4</th>\n",
              "      <td>al</td>\n",
              "      <td>-0.6851</td>\n",
              "      <td>-0.3619</td>\n",
              "      <td>298745.0000</td>\n",
              "      <td>49358</td>\n",
              "      <td>False</td>\n",
              "      <td>True</td>\n",
              "      <td>False</td>\n",
              "      <td>-1.1555</td>\n",
              "      <td>-0.4492</td>\n",
              "    </tr>\n",
              "  </tbody>\n",
              "</table>\n",
              "</div>\n",
              "    <div class=\"colab-df-buttons\">\n",
              "\n",
              "  <div class=\"colab-df-container\">\n",
              "    <button class=\"colab-df-convert\" onclick=\"convertToInteractive('df-17858ab6-4cb1-4b10-b8a3-6e7a90abb36f')\"\n",
              "            title=\"Convert this dataframe to an interactive table.\"\n",
              "            style=\"display:none;\">\n",
              "\n",
              "  <svg xmlns=\"http://www.w3.org/2000/svg\" height=\"24px\" viewBox=\"0 -960 960 960\">\n",
              "    <path d=\"M120-120v-720h720v720H120Zm60-500h600v-160H180v160Zm220 220h160v-160H400v160Zm0 220h160v-160H400v160ZM180-400h160v-160H180v160Zm440 0h160v-160H620v160ZM180-180h160v-160H180v160Zm440 0h160v-160H620v160Z\"/>\n",
              "  </svg>\n",
              "    </button>\n",
              "\n",
              "  <style>\n",
              "    .colab-df-container {\n",
              "      display:flex;\n",
              "      gap: 12px;\n",
              "    }\n",
              "\n",
              "    .colab-df-convert {\n",
              "      background-color: #E8F0FE;\n",
              "      border: none;\n",
              "      border-radius: 50%;\n",
              "      cursor: pointer;\n",
              "      display: none;\n",
              "      fill: #1967D2;\n",
              "      height: 32px;\n",
              "      padding: 0 0 0 0;\n",
              "      width: 32px;\n",
              "    }\n",
              "\n",
              "    .colab-df-convert:hover {\n",
              "      background-color: #E2EBFA;\n",
              "      box-shadow: 0px 1px 2px rgba(60, 64, 67, 0.3), 0px 1px 3px 1px rgba(60, 64, 67, 0.15);\n",
              "      fill: #174EA6;\n",
              "    }\n",
              "\n",
              "    .colab-df-buttons div {\n",
              "      margin-bottom: 4px;\n",
              "    }\n",
              "\n",
              "    [theme=dark] .colab-df-convert {\n",
              "      background-color: #3B4455;\n",
              "      fill: #D2E3FC;\n",
              "    }\n",
              "\n",
              "    [theme=dark] .colab-df-convert:hover {\n",
              "      background-color: #434B5C;\n",
              "      box-shadow: 0px 1px 3px 1px rgba(0, 0, 0, 0.15);\n",
              "      filter: drop-shadow(0px 1px 2px rgba(0, 0, 0, 0.3));\n",
              "      fill: #FFFFFF;\n",
              "    }\n",
              "  </style>\n",
              "\n",
              "    <script>\n",
              "      const buttonEl =\n",
              "        document.querySelector('#df-17858ab6-4cb1-4b10-b8a3-6e7a90abb36f button.colab-df-convert');\n",
              "      buttonEl.style.display =\n",
              "        google.colab.kernel.accessAllowed ? 'block' : 'none';\n",
              "\n",
              "      async function convertToInteractive(key) {\n",
              "        const element = document.querySelector('#df-17858ab6-4cb1-4b10-b8a3-6e7a90abb36f');\n",
              "        const dataTable =\n",
              "          await google.colab.kernel.invokeFunction('convertToInteractive',\n",
              "                                                    [key], {});\n",
              "        if (!dataTable) return;\n",
              "\n",
              "        const docLinkHtml = 'Like what you see? Visit the ' +\n",
              "          '<a target=\"_blank\" href=https://colab.research.google.com/notebooks/data_table.ipynb>data table notebook</a>'\n",
              "          + ' to learn more about interactive tables.';\n",
              "        element.innerHTML = '';\n",
              "        dataTable['output_type'] = 'display_data';\n",
              "        await google.colab.output.renderOutput(dataTable, element);\n",
              "        const docLink = document.createElement('div');\n",
              "        docLink.innerHTML = docLinkHtml;\n",
              "        element.appendChild(docLink);\n",
              "      }\n",
              "    </script>\n",
              "  </div>\n",
              "\n",
              "\n",
              "<div id=\"df-6053cf83-3243-403a-9ac7-37ae51d167dc\">\n",
              "  <button class=\"colab-df-quickchart\" onclick=\"quickchart('df-6053cf83-3243-403a-9ac7-37ae51d167dc')\"\n",
              "            title=\"Suggest charts\"\n",
              "            style=\"display:none;\">\n",
              "\n",
              "<svg xmlns=\"http://www.w3.org/2000/svg\" height=\"24px\"viewBox=\"0 0 24 24\"\n",
              "     width=\"24px\">\n",
              "    <g>\n",
              "        <path d=\"M19 3H5c-1.1 0-2 .9-2 2v14c0 1.1.9 2 2 2h14c1.1 0 2-.9 2-2V5c0-1.1-.9-2-2-2zM9 17H7v-7h2v7zm4 0h-2V7h2v10zm4 0h-2v-4h2v4z\"/>\n",
              "    </g>\n",
              "</svg>\n",
              "  </button>\n",
              "\n",
              "<style>\n",
              "  .colab-df-quickchart {\n",
              "      --bg-color: #E8F0FE;\n",
              "      --fill-color: #1967D2;\n",
              "      --hover-bg-color: #E2EBFA;\n",
              "      --hover-fill-color: #174EA6;\n",
              "      --disabled-fill-color: #AAA;\n",
              "      --disabled-bg-color: #DDD;\n",
              "  }\n",
              "\n",
              "  [theme=dark] .colab-df-quickchart {\n",
              "      --bg-color: #3B4455;\n",
              "      --fill-color: #D2E3FC;\n",
              "      --hover-bg-color: #434B5C;\n",
              "      --hover-fill-color: #FFFFFF;\n",
              "      --disabled-bg-color: #3B4455;\n",
              "      --disabled-fill-color: #666;\n",
              "  }\n",
              "\n",
              "  .colab-df-quickchart {\n",
              "    background-color: var(--bg-color);\n",
              "    border: none;\n",
              "    border-radius: 50%;\n",
              "    cursor: pointer;\n",
              "    display: none;\n",
              "    fill: var(--fill-color);\n",
              "    height: 32px;\n",
              "    padding: 0;\n",
              "    width: 32px;\n",
              "  }\n",
              "\n",
              "  .colab-df-quickchart:hover {\n",
              "    background-color: var(--hover-bg-color);\n",
              "    box-shadow: 0 1px 2px rgba(60, 64, 67, 0.3), 0 1px 3px 1px rgba(60, 64, 67, 0.15);\n",
              "    fill: var(--button-hover-fill-color);\n",
              "  }\n",
              "\n",
              "  .colab-df-quickchart-complete:disabled,\n",
              "  .colab-df-quickchart-complete:disabled:hover {\n",
              "    background-color: var(--disabled-bg-color);\n",
              "    fill: var(--disabled-fill-color);\n",
              "    box-shadow: none;\n",
              "  }\n",
              "\n",
              "  .colab-df-spinner {\n",
              "    border: 2px solid var(--fill-color);\n",
              "    border-color: transparent;\n",
              "    border-bottom-color: var(--fill-color);\n",
              "    animation:\n",
              "      spin 1s steps(1) infinite;\n",
              "  }\n",
              "\n",
              "  @keyframes spin {\n",
              "    0% {\n",
              "      border-color: transparent;\n",
              "      border-bottom-color: var(--fill-color);\n",
              "      border-left-color: var(--fill-color);\n",
              "    }\n",
              "    20% {\n",
              "      border-color: transparent;\n",
              "      border-left-color: var(--fill-color);\n",
              "      border-top-color: var(--fill-color);\n",
              "    }\n",
              "    30% {\n",
              "      border-color: transparent;\n",
              "      border-left-color: var(--fill-color);\n",
              "      border-top-color: var(--fill-color);\n",
              "      border-right-color: var(--fill-color);\n",
              "    }\n",
              "    40% {\n",
              "      border-color: transparent;\n",
              "      border-right-color: var(--fill-color);\n",
              "      border-top-color: var(--fill-color);\n",
              "    }\n",
              "    60% {\n",
              "      border-color: transparent;\n",
              "      border-right-color: var(--fill-color);\n",
              "    }\n",
              "    80% {\n",
              "      border-color: transparent;\n",
              "      border-right-color: var(--fill-color);\n",
              "      border-bottom-color: var(--fill-color);\n",
              "    }\n",
              "    90% {\n",
              "      border-color: transparent;\n",
              "      border-bottom-color: var(--fill-color);\n",
              "    }\n",
              "  }\n",
              "</style>\n",
              "\n",
              "  <script>\n",
              "    async function quickchart(key) {\n",
              "      const quickchartButtonEl =\n",
              "        document.querySelector('#' + key + ' button');\n",
              "      quickchartButtonEl.disabled = true;  // To prevent multiple clicks.\n",
              "      quickchartButtonEl.classList.add('colab-df-spinner');\n",
              "      try {\n",
              "        const charts = await google.colab.kernel.invokeFunction(\n",
              "            'suggestCharts', [key], {});\n",
              "      } catch (error) {\n",
              "        console.error('Error during call to suggestCharts:', error);\n",
              "      }\n",
              "      quickchartButtonEl.classList.remove('colab-df-spinner');\n",
              "      quickchartButtonEl.classList.add('colab-df-quickchart-complete');\n",
              "    }\n",
              "    (() => {\n",
              "      let quickchartButtonEl =\n",
              "        document.querySelector('#df-6053cf83-3243-403a-9ac7-37ae51d167dc button');\n",
              "      quickchartButtonEl.style.display =\n",
              "        google.colab.kernel.accessAllowed ? 'block' : 'none';\n",
              "    })();\n",
              "  </script>\n",
              "</div>\n",
              "\n",
              "    </div>\n",
              "  </div>\n"
            ],
            "application/vnd.google.colaboratory.intrinsic+json": {
              "type": "dataframe",
              "variable_name": "df_dummy",
              "summary": "{\n  \"name\": \"df_dummy\",\n  \"rows\": 3138,\n  \"fields\": [\n    {\n      \"column\": \"State\",\n      \"properties\": {\n        \"dtype\": \"category\",\n        \"num_unique_values\": 51,\n        \"samples\": [\n          \"tx\",\n          \"sc\",\n          \"va\"\n        ],\n        \"semantic_type\": \"\",\n        \"description\": \"\"\n      }\n    },\n    {\n      \"column\": \"Low_Access_Numbers_10_Miles\",\n      \"properties\": {\n        \"dtype\": \"number\",\n        \"std\": 1.0000000000000109,\n        \"min\": -0.6851093593985742,\n        \"max\": 15.032954401552512,\n        \"num_unique_values\": 1941,\n        \"samples\": [\n          -0.6251711429234807,\n          3.1383620439986477,\n          0.2106107007921584\n        ],\n        \"semantic_type\": \"\",\n        \"description\": \"\"\n      }\n    },\n    {\n      \"column\": \"Vehicle_Access_10_Miles\",\n      \"properties\": {\n        \"dtype\": \"number\",\n        \"std\": 1.0000000000000147,\n        \"min\": -0.3618851158694186,\n        \"max\": 23.01128317555588,\n        \"num_unique_values\": 208,\n        \"samples\": [\n          0.7517324314219291,\n          -0.27228370401839064,\n          1.084537675440033\n        ],\n        \"semantic_type\": \"\",\n        \"description\": \"\"\n      }\n    },\n    {\n      \"column\": \"Retail_Sales\",\n      \"properties\": {\n        \"dtype\": \"number\",\n        \"std\": 4472255.3870382635,\n        \"min\": 576.0,\n        \"max\": 121389378.0,\n        \"num_unique_values\": 3067,\n        \"samples\": [\n          1767778.0,\n          102452.0,\n          2410171.0\n        ],\n        \"semantic_type\": \"\",\n        \"description\": \"\"\n      }\n    },\n    {\n      \"column\": \"Median_Household_Income\",\n      \"properties\": {\n        \"dtype\": \"number\",\n        \"std\": 14183,\n        \"min\": 21504,\n        \"max\": 142299,\n        \"num_unique_values\": 3014,\n        \"samples\": [\n          78935,\n          52664,\n          43896\n        ],\n        \"semantic_type\": \"\",\n        \"description\": \"\"\n      }\n    },\n    {\n      \"column\": \"Region_Northeast\",\n      \"properties\": {\n        \"dtype\": \"boolean\",\n        \"num_unique_values\": 2,\n        \"samples\": [\n          true,\n          false\n        ],\n        \"semantic_type\": \"\",\n        \"description\": \"\"\n      }\n    },\n    {\n      \"column\": \"Region_South\",\n      \"properties\": {\n        \"dtype\": \"boolean\",\n        \"num_unique_values\": 2,\n        \"samples\": [\n          false,\n          true\n        ],\n        \"semantic_type\": \"\",\n        \"description\": \"\"\n      }\n    },\n    {\n      \"column\": \"Region_West\",\n      \"properties\": {\n        \"dtype\": \"boolean\",\n        \"num_unique_values\": 2,\n        \"samples\": [\n          true,\n          false\n        ],\n        \"semantic_type\": \"\",\n        \"description\": \"\"\n      }\n    },\n    {\n      \"column\": \"Log_Low_Access_Numbers_10_Miles\",\n      \"properties\": {\n        \"dtype\": \"number\",\n        \"std\": 0.704868617425497,\n        \"min\": -1.1555298731287817,\n        \"max\": 2.7746462541655146,\n        \"num_unique_values\": 1941,\n        \"samples\": [\n          -0.9812857383145723,\n          1.4203000680042364\n        ],\n        \"semantic_type\": \"\",\n        \"description\": \"\"\n      }\n    },\n    {\n      \"column\": \"Log_Vehicle_Access_10_Miles\",\n      \"properties\": {\n        \"dtype\": \"number\",\n        \"std\": 0.4096245198183562,\n        \"min\": -0.449236942677664,\n        \"max\": 3.178523852185202,\n        \"num_unique_values\": 208,\n        \"samples\": [\n          0.5606052590599031,\n          -0.3178440100614895\n        ],\n        \"semantic_type\": \"\",\n        \"description\": \"\"\n      }\n    }\n  ]\n}"
            }
          },
          "metadata": {},
          "execution_count": 182
        }
      ]
    },
    {
      "cell_type": "markdown",
      "source": [
        "I standardized then tranformed my the variables in my model because the previous values produced validations in my assumptions for linear regression."
      ],
      "metadata": {
        "id": "BsIozfvrtTnQ"
      }
    },
    {
      "cell_type": "code",
      "source": [
        "# Selects features\n",
        "features = [\"Log_Vehicle_Access_10_Miles\", \"Region_Northeast\", \"Region_South\", \"Region_West\"]\n",
        "X = df_dummy[features].values\n",
        "y = df_dummy[\"Log_Low_Access_Numbers_10_Miles\"].values"
      ],
      "metadata": {
        "id": "awHCvE4fkc-Z"
      },
      "execution_count": 183,
      "outputs": []
    },
    {
      "cell_type": "code",
      "source": [
        "import statsmodels.formula.api as smf\n",
        "\n",
        "model = smf.wls(formula = 'Log_Low_Access_Numbers_10_Miles ~ Log_Vehicle_Access_10_Miles + Region_Northeast + Region_South + Region_West',\n",
        "                data = df_dummy)\n",
        "results = model.fit()\n",
        "print(results.summary())"
      ],
      "metadata": {
        "colab": {
          "base_uri": "https://localhost:8080/"
        },
        "id": "Of8TRdmtOUY1",
        "outputId": "367e1ac0-1905-486b-bce1-9df3249ee6ef"
      },
      "execution_count": 184,
      "outputs": [
        {
          "output_type": "stream",
          "name": "stdout",
          "text": [
            "                                   WLS Regression Results                                  \n",
            "===========================================================================================\n",
            "Dep. Variable:     Log_Low_Access_Numbers_10_Miles   R-squared:                       0.584\n",
            "Model:                                         WLS   Adj. R-squared:                  0.583\n",
            "Method:                              Least Squares   F-statistic:                     1098.\n",
            "Date:                             Tue, 15 Apr 2025   Prob (F-statistic):               0.00\n",
            "Time:                                     01:17:57   Log-Likelihood:                -1980.1\n",
            "No. Observations:                             3138   AIC:                             3970.\n",
            "Df Residuals:                                 3133   BIC:                             4001.\n",
            "Df Model:                                        4                                         \n",
            "Covariance Type:                         nonrobust                                         \n",
            "===============================================================================================\n",
            "                                  coef    std err          t      P>|t|      [0.025      0.975]\n",
            "-----------------------------------------------------------------------------------------------\n",
            "Intercept                      -0.0605      0.014     -4.197      0.000      -0.089      -0.032\n",
            "Region_Northeast[T.True]       -0.3009      0.034     -8.864      0.000      -0.367      -0.234\n",
            "Region_South[T.True]           -0.1135      0.019     -6.132      0.000      -0.150      -0.077\n",
            "Region_West[T.True]             0.1113      0.026      4.285      0.000       0.060       0.162\n",
            "Log_Vehicle_Access_10_Miles     1.2656      0.020     63.077      0.000       1.226       1.305\n",
            "==============================================================================\n",
            "Omnibus:                      343.640   Durbin-Watson:                   1.675\n",
            "Prob(Omnibus):                  0.000   Jarque-Bera (JB):             1007.652\n",
            "Skew:                           0.580   Prob(JB):                    1.55e-219\n",
            "Kurtosis:                       5.522   Cond. No.                         5.17\n",
            "==============================================================================\n",
            "\n",
            "Notes:\n",
            "[1] Standard Errors assume that the covariance matrix of the errors is correctly specified.\n"
          ]
        }
      ]
    },
    {
      "cell_type": "markdown",
      "source": [
        "### Checking for Multiple Linear Regression Assumptions\n",
        "\n",
        "\n",
        "*   Constant variance and Linearity\n",
        "*   Normality among residuals\n",
        "*   Independence of residuals\n",
        "\n",
        "\n",
        "\n"
      ],
      "metadata": {
        "id": "ogAG18VgO8VT"
      }
    },
    {
      "cell_type": "markdown",
      "source": [
        "#### Checks for Linearity and Constant Variance"
      ],
      "metadata": {
        "id": "XNQUpkYMcxrY"
      }
    },
    {
      "cell_type": "code",
      "source": [
        "fitted_vals = results.fittedvalues\n",
        "residuals = results.resid\n",
        "\n",
        "plt.scatter(fitted_vals, residuals)\n",
        "plt.axhline(y=0, color='r', linestyle='--')\n",
        "plt.xlabel('Fitted Values')\n",
        "plt.ylabel('Residuals')\n",
        "plt.title('Residual Plot')\n",
        "plt.show()"
      ],
      "metadata": {
        "id": "ZmJXXqrTO3qZ",
        "colab": {
          "base_uri": "https://localhost:8080/",
          "height": 472
        },
        "outputId": "d7e5dbad-f751-45bb-8dd2-b10680d94daf"
      },
      "execution_count": 185,
      "outputs": [
        {
          "output_type": "display_data",
          "data": {
            "text/plain": [
              "<Figure size 640x480 with 1 Axes>"
            ],
            "image/png": "[encoded data removed]"
          },
          "metadata": {}
        }
      ]
    },
    {
      "cell_type": "markdown",
      "source": [
        "The residuals seem evenly distributed around the line, but the points seem to be following some kind of pattern which may suggest a violation in our linearity assumption. Proceed with caution."
      ],
      "metadata": {
        "id": "gkJ89D7Ud_-5"
      }
    },
    {
      "cell_type": "markdown",
      "source": [
        "#### Check for Independence Among Residuals"
      ],
      "metadata": {
        "id": "hEvWT5nhclJc"
      }
    },
    {
      "cell_type": "code",
      "source": [
        "from statsmodels.stats.stattools import durbin_watson\n",
        "durbin_watson(residuals)"
      ],
      "metadata": {
        "colab": {
          "base_uri": "https://localhost:8080/"
        },
        "id": "s1uHLQbYcFqO",
        "outputId": "ea0cf3ed-f5c2-4a04-e1bd-02fb6e5fa145"
      },
      "execution_count": 175,
      "outputs": [
        {
          "output_type": "execute_result",
          "data": {
            "text/plain": [
              "np.float64(1.9335370073186189)"
            ]
          },
          "metadata": {},
          "execution_count": 175
        }
      ]
    },
    {
      "cell_type": "markdown",
      "source": [
        "Since the Durbin-Watson test produced a value 1.70, which is between 0 and 4. We can assume the residuals are independent."
      ],
      "metadata": {
        "id": "peoT2J5JcJD4"
      }
    },
    {
      "cell_type": "code",
      "source": [
        "import statsmodels.api as sm\n",
        "\n",
        "# Create QQ plot for residuals\n",
        "sm.qqplot(residuals, line='45')\n",
        "plt.title(\"QQ Plot for residuals\")\n",
        "plt.show()"
      ],
      "metadata": {
        "colab": {
          "base_uri": "https://localhost:8080/",
          "height": 489
        },
        "id": "bEUtptPadYAZ",
        "outputId": "d41063fb-9e4b-4994-bd4a-719fbc7b7b24"
      },
      "execution_count": 186,
      "outputs": [
        {
          "output_type": "display_data",
          "data": {
            "text/plain": [
              "<Figure size 640x480 with 1 Axes>"
            ],
            "image/png": "[encoded data removed]"
          },
          "metadata": {}
        },
        {
          "output_type": "stream",
          "name": "stdout",
          "text": [
            "Jarque-Bera Test: stat=1007.651997900988, p=1.5529190458281283e-219\n"
          ]
        }
      ]
    },
    {
      "cell_type": "markdown",
      "source": [
        "The QQ plot displays a line that looks aproximately normal, but the tails may be large."
      ],
      "metadata": {
        "id": "ocEXi8KzsI59"
      }
    },
    {
      "cell_type": "markdown",
      "source": [
        "### Training and Fitting"
      ],
      "metadata": {
        "id": "32YDpLPNipY9"
      }
    },
    {
      "cell_type": "code",
      "source": [
        "from sklearn.linear_model import LinearRegression\n",
        "from sklearn.model_selection import train_test_split\n",
        "from sklearn.metrics import mean_squared_error\n",
        "\n",
        "X_train, X_test, y_train, y_test = train_test_split(X, y, test_size = 0.3, random_state = 58)\n",
        "\n",
        "model = LinearRegression()\n",
        "model.fit(X_train, y_train)\n",
        "\n",
        "# Make predictions\n",
        "y_pred = model.predict(X_test)"
      ],
      "metadata": {
        "id": "yFVIptGhzLyy"
      },
      "execution_count": 187,
      "outputs": []
    },
    {
      "cell_type": "markdown",
      "source": [
        "### Cross Validation"
      ],
      "metadata": {
        "id": "phfWKbq9h-xj"
      }
    },
    {
      "cell_type": "code",
      "source": [
        "from sklearn.metrics import r2_score\n",
        "r2 = r2_score(y_test, y_pred)\n",
        "print(f\"R-squared: {r2}\")\n",
        "\n",
        "\n",
        "mse = mean_squared_error(y_test, y_pred)\n",
        "print(f\"Mean Squared Error: {mse}\")\n",
        "\n",
        "# Print the coefficients\n",
        "print(f\"Intercept: {model.intercept_}\")\n",
        "print(f\"Slope: {model.coef_}\")"
      ],
      "metadata": {
        "id": "uHSM0A3qEQAp",
        "colab": {
          "base_uri": "https://localhost:8080/"
        },
        "outputId": "fb905fa9-94ec-4fed-f1ab-2a708e4f9144"
      },
      "execution_count": 188,
      "outputs": [
        {
          "output_type": "stream",
          "name": "stdout",
          "text": [
            "R-squared: 0.6118868896058196\n",
            "Mean Squared Error: 0.20324749702622028\n",
            "Intercept: -0.05032217998053101\n",
            "Slope: [ 1.24317259 -0.30449309 -0.13061242  0.10120591]\n"
          ]
        }
      ]
    },
    {
      "cell_type": "markdown",
      "source": [
        "## Interpretation of Final Results"
      ],
      "metadata": {
        "id": "ALU0-chMkfaf"
      }
    },
    {
      "cell_type": "markdown",
      "source": [
        "My model accounts for around 61% of the variation in my dependent variable representing Low access number at least 10 miles from a supermarket after doing cross validation. I found that both my predictors were significant in predicting my dependent variable. The intercept represents the logarithmic predicted number of low access people at least 10 miles from a supermarket for a county with 0 as the logarithmic number of low access people without a vehicle at least 10 miles from a super market and a midwest region. 1.245 represents the average standardized change in our logarithmic dependent variable for every unit increase in the logarithmic number of low access people without a vehicle at least 10 miles from a super market given a region. -0.3044 represents the difference between in our logarithmic dependent variable for Midwestern and Northeastern counties given a the number of low vehicle accesss number. -0.131 represents the the difference in our logarithmic dependent variable for Midwestern and Southern counties given a the number of low vehicle accesss number. And 0.101 represents the standardized difference in our logarithmic dependent variable for Midwestern and Southern counties given a the number of low vehicle accesss number."
      ],
      "metadata": {
        "id": "YcILSnn3kzgo"
      }
    }
  ]
}